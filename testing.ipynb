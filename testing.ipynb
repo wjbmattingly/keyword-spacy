{
 "cells": [
  {
   "cell_type": "code",
   "execution_count": 1,
   "metadata": {},
   "outputs": [],
   "source": [
    "import spacy\n",
    "from keyword_spacy import KeywordExtractor"
   ]
  },
  {
   "cell_type": "code",
   "execution_count": 8,
   "metadata": {},
   "outputs": [
    {
     "name": "stdout",
     "output_type": "stream",
     "text": [
      "Top Keywords: [('professional basketball', 1, 0.5476389527320862), ('professional basketball player', 1, 0.5374445915222168), ('born February', 1, 0.47616511583328247), ('basketball player', 1, 0.4181478023529053), ('Michael Jeffrey Jordan', 1, 0.36365288496017456), ('Widely considered', 1, 0.726791262626648), ('official National Basketball', 1, 0.6940551400184631), ('official National', 1, 0.6686201691627502), ('greatest basketball player', 1, 0.625556468963623), ('National Basketball Association', 1, 0.6166864037513733)]\n"
     ]
    }
   ],
   "source": [
    "nlp = spacy.load(\"en_core_web_md\")\n",
    "nlp.add_pipe(\"keyword_extractor\", last=True, config={\"top_n\": 10,\n",
    "                                                     \"top_n_sent\": 5,\n",
    "                                                     \"min_ngram\": 2,\n",
    "                                                     \"max_ngram\": 3,\n",
    "                                                     \"strict\": True})\n",
    "text =\"\"\"\n",
    "Michael Jeffrey Jordan (born February 17, 1963), also known by his initials MJ,[9] is an American former professional basketball player and businessman. Widely considered the greatest basketball player of all time, his official National Basketball Association (NBA) website states that \"by acclamation, Michael Jordan is the greatest basketball player of all time.\"[10] He played fifteen seasons in the NBA, winning six NBA championships with the Chicago Bulls. He was integral in popularizing the sport of basketball and the NBA around the world in the 1980s and 1990s,[11] becoming a global cultural icon.[12]\n",
    "\n",
    "Jordan played college basketball for three seasons under coach Dean Smith with the North Carolina Tar Heels. As a freshman, he was a member of the Tar Heels' national championship team in 1982.[5] Jordan joined the Bulls in 1984 as the third overall draft pick[5][13] and quickly emerged as a league star, entertaining crowds with his prolific scoring while gaining a reputation as one of the game's best defensive players.[14] His leaping ability, demonstrated by performing slam dunks from the free-throw line in Slam Dunk Contests, earned him the nicknames \"Air Jordan\" and \"His Airness\".[5][13] Jordan won his first NBA title with the Bulls in 1991 and followed that achievement with titles in 1992 and 1993, securing a three-peat. Jordan abruptly retired from basketball before the 1993–94 NBA season to play Minor League Baseball but returned to the Bulls in March 1995 and led them to three more championships in 1996, 1997, and 1998, as well as a then-record 72 regular season wins in the 1995–96 NBA season.[5] He retired for the second time in January 1999 but returned for two more NBA seasons from 2001 to 2003 as a member of the Washington Wizards.[5][13] During the course of his professional career, he was also selected to play for the United States national team, winning four gold medals—at the 1983 Pan American Games, 1984 Summer Olympics, 1992 Tournament of the Americas and 1992 Summer Olympics—while also being undefeated.[15] \n",
    "\"\"\"\n",
    "\n",
    "doc = nlp(text)\n",
    "print(\"Top Keywords:\", doc._.keywords)"
   ]
  },
  {
   "cell_type": "code",
   "execution_count": 9,
   "metadata": {},
   "outputs": [
    {
     "name": "stdout",
     "output_type": "stream",
     "text": [
      "\n",
      "Michael Jeffrey Jordan (born February 17, 1963), also known by his initials MJ,[9] is an American former professional basketball player and businessman.\n",
      "[('professional basketball', 0.5476389527320862), ('professional basketball player', 0.5374445915222168), ('born February', 0.47616511583328247), ('basketball player', 0.4181478023529053), ('Michael Jeffrey Jordan', 0.36365288496017456)]\n",
      "Widely considered the greatest basketball player of all time, his official National Basketball Association (NBA) website states that \"by acclamation, Michael Jordan is the greatest basketball player of all time.\n",
      "[('Widely considered', 0.726791262626648), ('official National Basketball', 0.6940551400184631), ('official National', 0.6686201691627502), ('greatest basketball player', 0.625556468963623), ('National Basketball Association', 0.6166864037513733)]\n",
      "\"[10] He played fifteen seasons in the NBA, winning six NBA championships with the Chicago Bulls.\n",
      "[('NBA championships', 0.5828155875205994), ('Chicago Bulls', 0.49878793954849243)]\n",
      "He was integral in popularizing the sport of basketball and the NBA around the world in the 1980s and 1990s,[11] becoming a global cultural icon.[12]\n",
      "\n",
      "Jordan played college basketball for three seasons under coach Dean Smith with the North Carolina Tar Heels.\n",
      "[('global cultural', 0.6205394268035889), ('played college basketball', 0.5857263803482056), ('Jordan played college', 0.5744400024414062), ('played college', 0.569547712802887), ('college basketball', 0.5623334646224976)]\n",
      "As a freshman, he was a member of the Tar Heels' national championship team in 1982.[5]\n",
      "[('national championship', 0.6722599267959595), ('national championship team', 0.6442553997039795), ('championship team', 0.5038272142410278), ('Tar Heels', 0.07235661894083023)]\n",
      "Jordan joined the Bulls in 1984 as the third overall draft pick[5][13] and quickly emerged as a league star, entertaining crowds with his prolific scoring while gaining a reputation as one of the game's best defensive players.[14] His leaping ability, demonstrated by performing slam dunks from the free-throw line in Slam Dunk Contests, earned him the nicknames \"Air Jordan\" and \"His Airness\".[5][13] Jordan won his first NBA title with the Bulls in 1991 and followed that achievement with titles in 1992 and 1993, securing a three-peat.\n",
      "[('prolific scoring', 0.6237053275108337), ('quickly emerged', 0.5894562005996704), ('best defensive', 0.516729474067688), ('overall draft', 0.5124689936637878), ('leaping ability', 0.4956468343734741)]\n",
      "Jordan abruptly retired from basketball before the 1993–94 NBA season to play Minor League Baseball but returned to the Bulls in March 1995 and led them to three more championships in 1996, 1997, and 1998, as well as a then-record 72 regular season wins in the 1995–96 NBA season.[5]\n",
      "[('regular season', 0.6710503101348877), ('regular season wins', 0.5712137222290039), ('play Minor League', 0.5358839631080627), ('play Minor', 0.48364976048469543), ('Jordan abruptly retired', 0.470370888710022)]\n",
      "He retired for the second time in January 1999 but returned for two more NBA seasons from 2001 to 2003 as a member of the Washington Wizards.[5][13]\n",
      "[('NBA seasons', 0.3549894094467163)]\n",
      "During the course of his professional career, he was also selected to play for the United States national team, winning four gold medals—at the 1983 Pan American Games, 1984 Summer Olympics, 1992 Tournament of the Americas and 1992 Summer Olympics—while also being undefeated.[15] \n",
      "\n",
      "[('States national team', 0.7391981482505798), ('United States national', 0.7284371852874756), ('States national', 0.69374018907547), ('national team', 0.6901546120643616), ('United States', 0.6315258145332336)]\n"
     ]
    }
   ],
   "source": [
    "for sent in doc.sents:\n",
    "    print(sent)\n",
    "    print(sent._.sent_keywords)"
   ]
  },
  {
   "cell_type": "code",
   "execution_count": null,
   "metadata": {},
   "outputs": [],
   "source": []
  }
 ],
 "metadata": {
  "kernelspec": {
   "display_name": "base",
   "language": "python",
   "name": "python3"
  },
  "language_info": {
   "codemirror_mode": {
    "name": "ipython",
    "version": 3
   },
   "file_extension": ".py",
   "mimetype": "text/x-python",
   "name": "python",
   "nbconvert_exporter": "python",
   "pygments_lexer": "ipython3",
   "version": "3.7.15"
  },
  "orig_nbformat": 4
 },
 "nbformat": 4,
 "nbformat_minor": 2
}

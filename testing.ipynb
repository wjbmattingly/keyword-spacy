{
 "cells": [
  {
   "cell_type": "code",
   "execution_count": 1,
   "metadata": {},
   "outputs": [],
   "source": [
    "import spacy\n",
    "from keyword_spacy import KeywordExtractor"
   ]
  },
  {
   "cell_type": "code",
   "execution_count": 7,
   "metadata": {},
   "outputs": [
    {
     "name": "stdout",
     "output_type": "stream",
     "text": [
      "Top Keywords: ['machine learning', 'pattern recognition', 'recognition', 'definition', 'artificial intelligence', 'generative artificial', 'mathematical optimization', 'mathematical foundations', 'mathematical programming', 'learning approaches']\n"
     ]
    }
   ],
   "source": [
    "nlp = spacy.load(\"en_core_web_md\")\n",
    "nlp.add_pipe(\"keyword_extractor\", last=True, config={\"top_n\": 10,\n",
    "                                                     \"top_n_sent\": 5,\n",
    "                                                     \"min_ngram\": 1,\n",
    "                                                     \"max_ngram\": 2,\n",
    "                                                     \"strict\": True})\n",
    "text =\"\"\"\n",
    "Machine learning (ML) is an umbrella term for solving problems for which development of algorithms by human programmers would be cost-prohibitive, and instead the problems are solved by helping machines 'discover' their 'own' algorithms,[1] without needing to be explicitly told what to do by any human-developed algorithms.[2] Recently, generative artificial neural networks have been able to surpass results of many previous approaches.[3][4] Machine learning approaches have been applied to large language models, computer vision, speech recognition, email filtering, agriculture and medicine, where it is too costly to develop algorithms to perform the needed tasks.[5][6]\n",
    "\n",
    "The mathematical foundations of ML are provided by mathematical optimization (mathematical programming) methods. Data mining is a related (parallel) field of study, focusing on exploratory data analysis through unsupervised learning.[8][9]\n",
    "\n",
    "ML is known in its application across business problems under the name predictive analytics. Although not all machine learning is statistically-based, computational statistics is an important source of the field's methods.\n",
    "History and relationships to other fields\n",
    "See also: Timeline of machine learning\n",
    "\n",
    "The term machine learning was coined in 1959 by Arthur Samuel, an IBM employee and pioneer in the field of computer gaming and artificial intelligence.[10][11] The synonym self-teaching computers was also used in this time period.[12][13]\n",
    "\n",
    "By the early 1960s an experimental \"learning machine\" with punched tape memory, called Cybertron, had been developed by Raytheon Company to analyze sonar signals, electrocardiograms, and speech patterns using rudimentary reinforcement learning. It was repetitively \"trained\" by a human operator/teacher to recognize patterns and equipped with a \"goof\" button to cause it to re-evaluate incorrect decisions.[14] A representative book on research into machine learning during the 1960s was Nilsson's book on Learning Machines, dealing mostly with machine learning for pattern classification.[15] Interest related to pattern recognition continued into the 1970s, as described by Duda and Hart in 1973.[16] In 1981 a report was given on using teaching strategies so that a neural network learns to recognize 40 characters (26 letters, 10 digits, and 4 special symbols) from a computer terminal.[17]\n",
    "\n",
    "Tom M. Mitchell provided a widely quoted, more formal definition of the algorithms studied in the machine learning field: \"A computer program is said to learn from experience E with respect to some class of tasks T and performance measure P if its performance at tasks in T, as measured by P, improves with experience E.\"[18] This definition of the tasks in which machine learning is concerned offers a fundamentally operational definition rather than defining the field in cognitive terms. This follows Alan Turing's proposal in his paper \"Computing Machinery and Intelligence\", in which the question \"Can machines think?\" is replaced with the question \"Can machines do what we (as thinking entities) can do?\".[19]\n",
    "\n",
    "Modern-day machine learning has two objectives, one is to classify data based on models which have been developed, the other purpose is to make predictions for future outcomes based on these models. A hypothetical algorithm specific to classifying data may use computer vision of moles coupled with supervised learning in order to train it to classify the cancerous moles. A machine learning algorithm for stock trading may inform the trader of future potential predictions.[20]\n",
    "Artificial intelligence\n",
    "Machine learning as subfield of AI[21]\n",
    "\n",
    "As a scientific endeavor, machine learning grew out of the quest for artificial intelligence (AI). In the early days of AI as an academic discipline, some researchers were interested in having machines learn from data. They attempted to approach the problem with various symbolic methods, as well as what were then termed \"neural networks\"; these were mostly perceptrons and other models that were later found to be reinventions of the generalized linear models of statistics.[22] Probabilistic reasoning was also employed, especially in automated medical diagnosis.[23]: 488 \n",
    "\n",
    "However, an increasing emphasis on the logical, knowledge-based approach caused a rift between AI and machine learning. Probabilistic systems were plagued by theoretical and practical problems of data acquisition and representation.[23]: 488  By 1980, expert systems had come to dominate AI, and statistics was out of favor.[24] Work on symbolic/knowledge-based learning did continue within AI, leading to inductive logic programming, but the more statistical line of research was now outside the field of AI proper, in pattern recognition and information retrieval.[23]: 708–710, 755  Neural networks research had been abandoned by AI and computer science around the same time. This line, too, was continued outside the AI/CS field, as \"connectionism\", by researchers from other disciplines including Hopfield, Rumelhart, and Hinton. Their main success came in the mid-1980s with the reinvention of backpropagation.[23]: 25 \n",
    "\n",
    "Machine learning (ML), reorganized and recognized as its own field, started to flourish in the 1990s. The field changed its goal from achieving artificial intelligence to tackling solvable problems of a practical nature. It shifted focus away from the symbolic approaches it had inherited from AI, and toward methods and models borrowed from statistics, fuzzy logic, and probability theory.[24] \n",
    "\n",
    "\"\"\"\n",
    "\n",
    "doc = nlp(text)\n",
    "print(\"Top Keywords:\", doc._.keywords)"
   ]
  },
  {
   "cell_type": "code",
   "execution_count": 6,
   "metadata": {},
   "outputs": [
    {
     "name": "stdout",
     "output_type": "stream",
     "text": [
      "['generative artificial', 'mathematical optimization', 'mathematical foundations', 'mathematical programming']\n",
      "['exploratory', 'predictive analytics', 'predictive', 'exploratory data']\n",
      "['computational statistics', 'computational', 'statistically', 'important source']\n",
      "['relationships', 'artificial', 'machine learning', 'learning']\n",
      "['rudimentary reinforcement', 'experimental', 'reinforcement learning', 'teaching computers']\n",
      "['pattern recognition', 'recognition continued', 'recognition', 'recognize patterns']\n",
      "['formal definition', 'performance measure', 'definition', 'teaching strategies']\n",
      "['fundamentally operational', 'operational definition', 'defining', 'fundamentally']\n",
      "['thinking entities', 'Turing', 'objectives', 'predictions']\n",
      "['classifying', 'algorithm specific', 'specific', 'computer vision']\n",
      "['artificial intelligence', 'Artificial intelligence', 'potential', 'intelligence']\n",
      "['academic discipline', 'having machines', 'discipline', 'researchers']\n",
      "['Probabilistic reasoning', 'generalized', 'reinventions', 'especially']\n",
      "['statistical', 'networks research', 'pattern recognition', 'Probabilistic systems']\n",
      "['disciplines including', 'including Hopfield', 'continued outside', 'connectionism']\n",
      "['reinvention', 'main success', 'recognized', 'reorganized']\n",
      "['achieving artificial', 'practical nature', 'artificial intelligence', 'practical']\n",
      "['approaches', 'symbolic approaches', 'probability', 'models borrowed']\n"
     ]
    }
   ],
   "source": [
    "for sent in doc.sents:\n",
    "    print(sent._.sent_keywords)"
   ]
  },
  {
   "cell_type": "code",
   "execution_count": null,
   "metadata": {},
   "outputs": [],
   "source": []
  }
 ],
 "metadata": {
  "kernelspec": {
   "display_name": "base",
   "language": "python",
   "name": "python3"
  },
  "language_info": {
   "codemirror_mode": {
    "name": "ipython",
    "version": 3
   },
   "file_extension": ".py",
   "mimetype": "text/x-python",
   "name": "python",
   "nbconvert_exporter": "python",
   "pygments_lexer": "ipython3",
   "version": "3.7.15"
  },
  "orig_nbformat": 4
 },
 "nbformat": 4,
 "nbformat_minor": 2
}
